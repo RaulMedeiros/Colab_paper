{
  "nbformat": 4,
  "nbformat_minor": 0,
  "metadata": {
    "colab": {
      "name": "Train a simple CNN on the MNIST dataset.ipynb",
      "version": "0.3.2",
      "provenance": [],
      "include_colab_link": true
    },
    "kernelspec": {
      "name": "python3",
      "display_name": "Python 3"
    }
  },
  "cells": [
    {
      "cell_type": "markdown",
      "metadata": {
        "id": "view-in-github",
        "colab_type": "text"
      },
      "source": [
        "[View in Colaboratory](https://colab.research.google.com/github/RaulMedeiros/Colab_paper/blob/master/Train_a_simple_CNN_on_the_MNIST_dataset.ipynb)"
      ]
    },
    {
      "metadata": {
        "id": "--rpgax6V2X9",
        "colab_type": "text"
      },
      "cell_type": "markdown",
      "source": [
        "# Trains a simple convnet on the MNIST dataset.\n",
        "Gets to 99.25% test accuracy after 12 epochs\n",
        "(there is still a lot of margin for parameter tuning).\n",
        "\n",
        "https://github.com/keras-team/keras/blob/master/examples/mnist_cnn.py"
      ]
    },
    {
      "metadata": {
        "id": "zf3SO6lpymIB",
        "colab_type": "text"
      },
      "cell_type": "markdown",
      "source": [
        "### Configuration"
      ]
    },
    {
      "metadata": {
        "id": "eSVE7bR44afI",
        "colab_type": "code",
        "colab": {
          "base_uri": "https://localhost:8080/",
          "height": 34
        },
        "outputId": "935e8ec9-a443-4b09-c9c0-338941a92cfa"
      },
      "cell_type": "code",
      "source": [
        "from __future__ import print_function\n",
        "import keras\n",
        "from keras.datasets import mnist\n",
        "from keras.models import Sequential\n",
        "from keras.layers import Dense, Dropout, Flatten\n",
        "from keras.layers import Conv2D, MaxPooling2D\n",
        "from keras import backend as K\n",
        "\n",
        "batch_size = 128\n",
        "num_classes = 10\n",
        "epochs = 12"
      ],
      "execution_count": 1,
      "outputs": [
        {
          "output_type": "stream",
          "text": [
            "Using TensorFlow backend.\n"
          ],
          "name": "stderr"
        }
      ]
    },
    {
      "metadata": {
        "id": "5I-nDX6jzBla",
        "colab_type": "text"
      },
      "cell_type": "markdown",
      "source": [
        "### Load Data"
      ]
    },
    {
      "metadata": {
        "id": "HXUdF3v3ytu8",
        "colab_type": "code",
        "colab": {
          "base_uri": "https://localhost:8080/",
          "height": 51
        },
        "outputId": "08fe0806-8455-47b5-b57f-dee57325dc8a"
      },
      "cell_type": "code",
      "source": [
        "# input image dimensions\n",
        "img_rows, img_cols = 28, 28\n",
        "\n",
        "# the data, split between train and test sets\n",
        "(x_train, y_train), (x_test, y_test) = mnist.load_data()"
      ],
      "execution_count": 2,
      "outputs": [
        {
          "output_type": "stream",
          "text": [
            "Downloading data from https://s3.amazonaws.com/img-datasets/mnist.npz\n",
            "11493376/11490434 [==============================] - 2s 0us/step\n"
          ],
          "name": "stdout"
        }
      ]
    },
    {
      "metadata": {
        "id": "vYJlYT3itneX",
        "colab_type": "text"
      },
      "cell_type": "markdown",
      "source": [
        "###Plots a random sample from the training dataset."
      ]
    },
    {
      "metadata": {
        "id": "sM1YzkRb5CdG",
        "colab_type": "code",
        "colab": {
          "base_uri": "https://localhost:8080/",
          "height": 347
        },
        "outputId": "e93c97dd-09d2-4cd5-c536-78dec8ee087e"
      },
      "cell_type": "code",
      "source": [
        "import matplotlib.pyplot as plt\n",
        "import numpy as np\n",
        "plt.imshow(x_train[np.random.randint(len(x_train))])\n",
        "plt.grid(False)\n",
        "plt.show()"
      ],
      "execution_count": 3,
      "outputs": [
        {
          "output_type": "display_data",
          "data": {
            "image/png": "[encoded data removed]",
            "text/plain": [
              "<matplotlib.figure.Figure at 0x7f90897397f0>"
            ]
          },
          "metadata": {
            "tags": []
          }
        }
      ]
    },
    {
      "metadata": {
        "id": "aZnUHHnzuTfH",
        "colab_type": "text"
      },
      "cell_type": "markdown",
      "source": [
        "### Format images to the order requested by Tensflow backgroud API."
      ]
    },
    {
      "metadata": {
        "id": "679ZdYD7gewj",
        "colab_type": "code",
        "colab": {
          "base_uri": "https://localhost:8080/",
          "height": 34
        },
        "outputId": "fa5ee524-643e-4a04-ae42-2c8f95b2f032"
      },
      "cell_type": "code",
      "source": [
        "x_train = x_train.reshape(x_train.shape[0], img_rows, img_cols, 1)\n",
        "x_test = x_test.reshape(x_test.shape[0], img_rows, img_cols, 1)\n",
        "input_shape = (img_rows, img_cols, 1)\n",
        "input_shape"
      ],
      "execution_count": 4,
      "outputs": [
        {
          "output_type": "execute_result",
          "data": {
            "text/plain": [
              "(28, 28, 1)"
            ]
          },
          "metadata": {
            "tags": []
          },
          "execution_count": 4
        }
      ]
    },
    {
      "metadata": {
        "id": "pQZ75Lvrt1NM",
        "colab_type": "text"
      },
      "cell_type": "markdown",
      "source": [
        "### Normalize MNIST images between 0 and 1."
      ]
    },
    {
      "metadata": {
        "id": "Hrc6Nl3egg45",
        "colab_type": "code",
        "colab": {
          "base_uri": "https://localhost:8080/",
          "height": 68
        },
        "outputId": "bec19e96-c9bc-4dd1-f8f5-eae52458fe1e"
      },
      "cell_type": "code",
      "source": [
        "x_train = x_train.astype('float32')\n",
        "x_test = x_test.astype('float32')\n",
        "x_train /= 255\n",
        "x_test /= 255\n",
        "print('x_train shape:', x_train.shape)\n",
        "print(x_train.shape[0], 'train samples')\n",
        "print(x_test.shape[0], 'test samples')"
      ],
      "execution_count": 5,
      "outputs": [
        {
          "output_type": "stream",
          "text": [
            "x_train shape: (60000, 28, 28, 1)\n",
            "60000 train samples\n",
            "10000 test samples\n"
          ],
          "name": "stdout"
        }
      ]
    },
    {
      "metadata": {
        "id": "olcInUxDws-C",
        "colab_type": "text"
      },
      "cell_type": "markdown",
      "source": [
        "### Convert labes to One-Hot Format."
      ]
    },
    {
      "metadata": {
        "id": "LSdsWh-Qwt9k",
        "colab_type": "code",
        "colab": {}
      },
      "cell_type": "code",
      "source": [
        "y_train = keras.utils.to_categorical(y_train, num_classes)\n",
        "y_test = keras.utils.to_categorical(y_test, num_classes)"
      ],
      "execution_count": 0,
      "outputs": []
    },
    {
      "metadata": {
        "id": "_xLSaGdYwhq0",
        "colab_type": "text"
      },
      "cell_type": "markdown",
      "source": [
        "### Build Deep Model architecture."
      ]
    },
    {
      "metadata": {
        "id": "skJI1dkr4l6z",
        "colab_type": "code",
        "colab": {}
      },
      "cell_type": "code",
      "source": [
        "model = Sequential()\n",
        "model.add(Conv2D(32, kernel_size=(3, 3),\n",
        "                 activation='relu',\n",
        "                 input_shape=input_shape))\n",
        "model.add(Conv2D(64, (3, 3), activation='relu'))\n",
        "model.add(MaxPooling2D(pool_size=(2, 2)))\n",
        "model.add(Dropout(0.5))\n",
        "model.add(Flatten())\n",
        "model.add(Dense(128, activation='relu'))\n",
        "model.add(Dropout(0.5))\n",
        "model.add(Dense(num_classes, activation='softmax'))\n"
      ],
      "execution_count": 0,
      "outputs": []
    },
    {
      "metadata": {
        "id": "ad5ye0cYxEQP",
        "colab_type": "text"
      },
      "cell_type": "markdown",
      "source": [
        "### Set the training configurations: loss (objetctive func.), optimization strategy and the evaluation metric."
      ]
    },
    {
      "metadata": {
        "id": "UjrtINGRxDEy",
        "colab_type": "code",
        "colab": {}
      },
      "cell_type": "code",
      "source": [
        "model.compile(loss=keras.losses.categorical_crossentropy,\n",
        "              optimizer=keras.optimizers.Adadelta(),\n",
        "              metrics=['accuracy'])"
      ],
      "execution_count": 0,
      "outputs": []
    },
    {
      "metadata": {
        "id": "_dIp1W5Zw8cx",
        "colab_type": "text"
      },
      "cell_type": "markdown",
      "source": [
        "## Train the model using GPU"
      ]
    },
    {
      "metadata": {
        "id": "T-wY2B40gmgz",
        "colab_type": "code",
        "colab": {
          "base_uri": "https://localhost:8080/",
          "height": 523
        },
        "outputId": "685bc5f7-2ead-413c-fb5e-66c36ecb52cc"
      },
      "cell_type": "code",
      "source": [
        "%%time\n",
        "model.fit(x_train, y_train,\n",
        "          batch_size=batch_size,\n",
        "          epochs=epochs,\n",
        "          verbose=1,\n",
        "          validation_data=(x_test, y_test))"
      ],
      "execution_count": 9,
      "outputs": [
        {
          "output_type": "stream",
          "text": [
            "Train on 60000 samples, validate on 10000 samples\n",
            "Epoch 1/12\n",
            "60000/60000 [==============================] - 12s 207us/step - loss: 0.2736 - acc: 0.9148 - val_loss: 0.0585 - val_acc: 0.9810\n",
            "Epoch 2/12\n",
            "60000/60000 [==============================] - 10s 169us/step - loss: 0.0984 - acc: 0.9709 - val_loss: 0.0513 - val_acc: 0.9828\n",
            "Epoch 3/12\n",
            "28800/60000 [=============>................] - ETA: 5s - loss: 0.0805 - acc: 0.9766"
          ],
          "name": "stdout"
        },
        {
          "output_type": "stream",
          "text": [
            "60000/60000 [==============================] - 10s 170us/step - loss: 0.0776 - acc: 0.9773 - val_loss: 0.0347 - val_acc: 0.9873\n",
            "Epoch 4/12\n",
            "60000/60000 [==============================] - 10s 171us/step - loss: 0.0644 - acc: 0.9811 - val_loss: 0.0309 - val_acc: 0.9892\n",
            "Epoch 5/12\n",
            "60000/60000 [==============================] - 10s 170us/step - loss: 0.0565 - acc: 0.9830 - val_loss: 0.0314 - val_acc: 0.9892\n",
            "Epoch 6/12\n",
            "  128/60000 [..............................] - ETA: 10s - loss: 0.0323 - acc: 0.9922"
          ],
          "name": "stdout"
        },
        {
          "output_type": "stream",
          "text": [
            "60000/60000 [==============================] - 10s 170us/step - loss: 0.0514 - acc: 0.9848 - val_loss: 0.0313 - val_acc: 0.9899\n",
            "Epoch 7/12\n",
            "60000/60000 [==============================] - 10s 171us/step - loss: 0.0475 - acc: 0.9858 - val_loss: 0.0271 - val_acc: 0.9901\n",
            "Epoch 8/12\n",
            "54656/60000 [==========================>...] - ETA: 0s - loss: 0.0444 - acc: 0.9865"
          ],
          "name": "stdout"
        },
        {
          "output_type": "stream",
          "text": [
            "60000/60000 [==============================] - 10s 170us/step - loss: 0.0442 - acc: 0.9866 - val_loss: 0.0275 - val_acc: 0.9907\n",
            "Epoch 9/12\n",
            "60000/60000 [==============================] - 10s 171us/step - loss: 0.0420 - acc: 0.9870 - val_loss: 0.0271 - val_acc: 0.9902\n",
            "Epoch 10/12\n",
            "60000/60000 [==============================] - 10s 170us/step - loss: 0.0394 - acc: 0.9879 - val_loss: 0.0272 - val_acc: 0.9907\n",
            "Epoch 11/12\n",
            " 4736/60000 [=>............................] - ETA: 8s - loss: 0.0375 - acc: 0.9901"
          ],
          "name": "stdout"
        },
        {
          "output_type": "stream",
          "text": [
            "60000/60000 [==============================] - 10s 170us/step - loss: 0.0371 - acc: 0.9885 - val_loss: 0.0266 - val_acc: 0.9908\n",
            "Epoch 12/12\n",
            "60000/60000 [==============================] - 10s 170us/step - loss: 0.0366 - acc: 0.9888 - val_loss: 0.0254 - val_acc: 0.9911\n",
            "CPU times: user 1min 28s, sys: 40.2 s, total: 2min 8s\n",
            "Wall time: 2min 5s\n"
          ],
          "name": "stdout"
        },
        {
          "output_type": "execute_result",
          "data": {
            "text/plain": [
              "<keras.callbacks.History at 0x7f4c36472a20>"
            ]
          },
          "metadata": {
            "tags": []
          },
          "execution_count": 9
        }
      ]
    },
    {
      "metadata": {
        "id": "1E8RDrDSFHSC",
        "colab_type": "text"
      },
      "cell_type": "markdown",
      "source": [
        "### Compute Evaluation Metric"
      ]
    },
    {
      "metadata": {
        "id": "ZWR0QVkW5RoK",
        "colab_type": "code",
        "colab": {
          "base_uri": "https://localhost:8080/",
          "height": 52
        },
        "outputId": "005b674f-4882-41d9-b2b4-41f762fdb95f"
      },
      "cell_type": "code",
      "source": [
        "score = model.evaluate(x_test, y_test, verbose=0)\n",
        "print('Test loss:', score[0])\n",
        "print('Test accuracy:', score[1])"
      ],
      "execution_count": 0,
      "outputs": [
        {
          "output_type": "stream",
          "text": [
            "Test loss: 0.02743976174756099\n",
            "Test accuracy: 0.9915\n"
          ],
          "name": "stdout"
        }
      ]
    },
    {
      "metadata": {
        "id": "UAFty4dkyGVV",
        "colab_type": "text"
      },
      "cell_type": "markdown",
      "source": [
        "## Train the model using only CPU."
      ]
    },
    {
      "metadata": {
        "id": "gUP0OW1QJfPN",
        "colab_type": "code",
        "colab": {
          "base_uri": "https://localhost:8080/",
          "height": 513
        },
        "outputId": "39a1ed84-7b59-41e8-c31d-f456cbb6567a"
      },
      "cell_type": "code",
      "source": [
        "%%time\n",
        "model.fit(x_train, y_train,\n",
        "          batch_size=batch_size,\n",
        "          epochs=epochs,\n",
        "          verbose=1,\n",
        "          validation_data=(x_test, y_test))"
      ],
      "execution_count": 9,
      "outputs": [
        {
          "output_type": "stream",
          "text": [
            "Train on 60000 samples, validate on 10000 samples\n",
            "Epoch 1/12\n",
            "60000/60000 [==============================] - 162s 3ms/step - loss: 0.2849 - acc: 0.9118 - val_loss: 0.0585 - val_acc: 0.9808\n",
            "Epoch 2/12\n",
            "14080/60000 [======>.......................] - ETA: 1:59 - loss: 0.1213 - acc: 0.9643"
          ],
          "name": "stdout"
        },
        {
          "output_type": "stream",
          "text": [
            "60000/60000 [==============================] - 163s 3ms/step - loss: 0.1021 - acc: 0.9699 - val_loss: 0.0442 - val_acc: 0.9860\n",
            "Epoch 3/12\n",
            "39808/60000 [==================>...........] - ETA: 52s - loss: 0.0790 - acc: 0.9763"
          ],
          "name": "stdout"
        },
        {
          "output_type": "stream",
          "text": [
            "60000/60000 [==============================] - 162s 3ms/step - loss: 0.0790 - acc: 0.9764 - val_loss: 0.0377 - val_acc: 0.9865\n",
            "Epoch 4/12\n",
            "49664/60000 [=======================>......] - ETA: 26s - loss: 0.0672 - acc: 0.9791"
          ],
          "name": "stdout"
        },
        {
          "output_type": "stream",
          "text": [
            "60000/60000 [==============================] - 161s 3ms/step - loss: 0.0675 - acc: 0.9791 - val_loss: 0.0313 - val_acc: 0.9888\n",
            "Epoch 5/12\n",
            "53376/60000 [=========================>....] - ETA: 17s - loss: 0.0572 - acc: 0.9830"
          ],
          "name": "stdout"
        },
        {
          "output_type": "stream",
          "text": [
            "60000/60000 [==============================] - 162s 3ms/step - loss: 0.0582 - acc: 0.9828 - val_loss: 0.0301 - val_acc: 0.9897\n",
            "Epoch 6/12\n",
            "54784/60000 [==========================>...] - ETA: 13s - loss: 0.0529 - acc: 0.9838"
          ],
          "name": "stdout"
        },
        {
          "output_type": "stream",
          "text": [
            "60000/60000 [==============================] - 164s 3ms/step - loss: 0.0535 - acc: 0.9837 - val_loss: 0.0281 - val_acc: 0.9902\n",
            "Epoch 7/12\n",
            "55296/60000 [==========================>...] - ETA: 12s - loss: 0.0501 - acc: 0.9852"
          ],
          "name": "stdout"
        },
        {
          "output_type": "stream",
          "text": [
            "60000/60000 [==============================] - 167s 3ms/step - loss: 0.0508 - acc: 0.9851 - val_loss: 0.0279 - val_acc: 0.9911\n",
            "Epoch 8/12\n",
            "55552/60000 [==========================>...] - ETA: 11s - loss: 0.0455 - acc: 0.9862"
          ],
          "name": "stdout"
        },
        {
          "output_type": "stream",
          "text": [
            "60000/60000 [==============================] - 167s 3ms/step - loss: 0.0455 - acc: 0.9862 - val_loss: 0.0286 - val_acc: 0.9899\n",
            "Epoch 9/12\n",
            "55552/60000 [==========================>...] - ETA: 11s - loss: 0.0447 - acc: 0.9866"
          ],
          "name": "stdout"
        },
        {
          "output_type": "stream",
          "text": [
            "60000/60000 [==============================] - 164s 3ms/step - loss: 0.0449 - acc: 0.9865 - val_loss: 0.0254 - val_acc: 0.9918\n",
            "Epoch 10/12\n",
            "55296/60000 [==========================>...] - ETA: 12s - loss: 0.0437 - acc: 0.9863"
          ],
          "name": "stdout"
        },
        {
          "output_type": "stream",
          "text": [
            "60000/60000 [==============================] - 164s 3ms/step - loss: 0.0431 - acc: 0.9866 - val_loss: 0.0275 - val_acc: 0.9909\n",
            "Epoch 11/12\n",
            "55296/60000 [==========================>...] - ETA: 12s - loss: 0.0409 - acc: 0.9873"
          ],
          "name": "stdout"
        },
        {
          "output_type": "stream",
          "text": [
            "60000/60000 [==============================] - 167s 3ms/step - loss: 0.0413 - acc: 0.9873 - val_loss: 0.0278 - val_acc: 0.9918\n",
            "Epoch 12/12\n",
            "55296/60000 [==========================>...] - ETA: 12s - loss: 0.0385 - acc: 0.9885"
          ],
          "name": "stdout"
        },
        {
          "output_type": "stream",
          "text": [
            "60000/60000 [==============================] - 166s 3ms/step - loss: 0.0386 - acc: 0.9885 - val_loss: 0.0250 - val_acc: 0.9917\n",
            "CPU times: user 1h 2min 32s, sys: 48.9 s, total: 1h 3min 21s\n",
            "Wall time: 32min 50s\n"
          ],
          "name": "stdout"
        },
        {
          "output_type": "execute_result",
          "data": {
            "text/plain": [
              "<keras.callbacks.History at 0x7f90892e4710>"
            ]
          },
          "metadata": {
            "tags": []
          },
          "execution_count": 9
        }
      ]
    },
    {
      "metadata": {
        "id": "T1KV4V0MCTEi",
        "colab_type": "text"
      },
      "cell_type": "markdown",
      "source": [
        "### Compute Evaluation Metric"
      ]
    },
    {
      "metadata": {
        "id": "-O70iP1sCTEo",
        "colab_type": "code",
        "colab": {
          "base_uri": "https://localhost:8080/",
          "height": 51
        },
        "outputId": "c1fab020-c482-4bcf-997e-862d5a40019c"
      },
      "cell_type": "code",
      "source": [
        "score = model.evaluate(x_test, y_test, verbose=0)\n",
        "print('Test loss:', score[0])\n",
        "print('Test accuracy:', score[1])"
      ],
      "execution_count": 10,
      "outputs": [
        {
          "output_type": "stream",
          "text": [
            "Test loss: 0.024995064804670255\n",
            "Test accuracy: 0.9917\n"
          ],
          "name": "stdout"
        }
      ]
    }
  ]
}
